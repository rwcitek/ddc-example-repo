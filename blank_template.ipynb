{
  "nbformat": 4,
  "nbformat_minor": 0,
  "metadata": {
    "colab": {
      "provenance": [],
      "authorship_tag": "ABX9TyMFTcifNjgqMuYOjhfXZR0Z",
      "include_colab_link": true
    },
    "kernelspec": {
      "name": "python3",
      "display_name": "Python 3"
    },
    "language_info": {
      "name": "python"
    }
  },
  "cells": [
    {
      "cell_type": "markdown",
      "metadata": {
        "id": "view-in-github",
        "colab_type": "text"
      },
      "source": [
        "<a href=\"https://colab.research.google.com/github/rwcitek/ddc-example-repo/blob/main/blank_template.ipynb\" target=\"_parent\"><img src=\"https://colab.research.google.com/assets/colab-badge.svg\" alt=\"Open In Colab\"/></a>"
      ]
    },
    {
      "cell_type": "markdown",
      "source": [
        "# Blank notebook"
      ],
      "metadata": {
        "id": "jMZkMOHI9w-9"
      }
    },
    {
      "cell_type": "code",
      "source": [],
      "metadata": {
        "id": "YWeT-3SY9ydO"
      },
      "execution_count": null,
      "outputs": []
    }
  ]
}